{
 "cells": [
  {
   "cell_type": "code",
   "execution_count": 1,
   "metadata": {},
   "outputs": [],
   "source": [
    "# importing all required libraries\n",
    "\n",
    "import pandas as pd\n",
    "import numpy as np\n",
    "import requests\n",
    "import os\n",
    "\n",
    "import matplotlib.pyplot as plt\n",
    "import seaborn as sns\n",
    "%matplotlib inline\n",
    "\n",
    "import tweepy\n",
    "import time\n",
    "import json\n",
    "import csv"
   ]
  },
  {
   "cell_type": "code",
   "execution_count": 2,
   "metadata": {},
   "outputs": [],
   "source": [
    "#Reading access keys into variables\n",
    "keys = pd.read_csv(\"SARS Keys.csv\")"
   ]
  },
  {
   "cell_type": "code",
   "execution_count": 3,
   "metadata": {},
   "outputs": [],
   "source": [
    "#access twitter\n",
    "consumer_key = keys['API Key'][0]\n",
    "consumer_secret = keys['API Secret Key'][0]\n",
    "access_token = keys['Access Token'][0]\n",
    "access_secret = keys['Access Token Secret'][0]"
   ]
  },
  {
   "cell_type": "code",
   "execution_count": 8,
   "metadata": {},
   "outputs": [],
   "source": [
    "auth = tweepy.OAuthHandler(consumer_key, consumer_secret)\n",
    "auth.set_access_token(access_token, access_secret)\n",
    "api = tweepy.API(auth, wait_on_rate_limit=True)"
   ]
  },
  {
   "cell_type": "code",
   "execution_count": 40,
   "metadata": {},
   "outputs": [
    {
     "data": {
      "text/plain": [
       "[Status(_api=<tweepy.api.API object at 0x1075ddfa0>, _json={'created_at': 'Tue Feb 01 19:06:57 +0000 2022', 'id': 1488589706665381891, 'id_str': '1488589706665381891', 'text': '@ElizabethOf_ @Fatbabe25 My sister! let Jesus take the wheel😭', 'truncated': False, 'entities': {'hashtags': [], 'symbols': [], 'user_mentions': [{'screen_name': 'ElizabethOf_', 'name': 'Lizzy', 'id': 723824556083929088, 'id_str': '723824556083929088', 'indices': [0, 13]}, {'screen_name': 'Fatbabe25', 'name': 'MFJPM', 'id': 2274692722, 'id_str': '2274692722', 'indices': [14, 24]}], 'urls': []}, 'metadata': {'iso_language_code': 'en', 'result_type': 'recent'}, 'source': '<a href=\"http://twitter.com/download/android\" rel=\"nofollow\">Twitter for Android</a>', 'in_reply_to_status_id': 1488579454058250242, 'in_reply_to_status_id_str': '1488579454058250242', 'in_reply_to_user_id': 723824556083929088, 'in_reply_to_user_id_str': '723824556083929088', 'in_reply_to_screen_name': 'ElizabethOf_', 'user': {'id': 4804180933, 'id_str': '4804180933', 'name': 'JOHNSON ELIZABETH', 'screen_name': 'scriptedbaker', 'location': '', 'description': \"I'm a Baker🍨Food Critic🍨Good food lover😎🍨Aspiring Food Consultant🍨Abba's no1 baby girl 💕... mess with women face me😈\", 'url': None, 'entities': {'description': {'urls': []}}, 'protected': False, 'followers_count': 120, 'friends_count': 598, 'listed_count': 0, 'created_at': 'Sat Jan 23 19:00:54 +0000 2016', 'favourites_count': 2785, 'utc_offset': None, 'time_zone': None, 'geo_enabled': True, 'verified': False, 'statuses_count': 852, 'lang': None, 'contributors_enabled': False, 'is_translator': False, 'is_translation_enabled': False, 'profile_background_color': 'F5F8FA', 'profile_background_image_url': None, 'profile_background_image_url_https': None, 'profile_background_tile': False, 'profile_image_url': 'http://pbs.twimg.com/profile_images/1486789635342802949/Fb8Jo_dM_normal.jpg', 'profile_image_url_https': 'https://pbs.twimg.com/profile_images/1486789635342802949/Fb8Jo_dM_normal.jpg', 'profile_banner_url': 'https://pbs.twimg.com/profile_banners/4804180933/1600120578', 'profile_link_color': '1DA1F2', 'profile_sidebar_border_color': 'C0DEED', 'profile_sidebar_fill_color': 'DDEEF6', 'profile_text_color': '333333', 'profile_use_background_image': True, 'has_extended_profile': True, 'default_profile': True, 'default_profile_image': False, 'following': True, 'follow_request_sent': False, 'notifications': False, 'translator_type': 'none', 'withheld_in_countries': []}, 'geo': None, 'coordinates': None, 'place': None, 'contributors': None, 'is_quote_status': False, 'retweet_count': 0, 'favorite_count': 0, 'favorited': False, 'retweeted': False, 'lang': 'en'}, created_at=datetime.datetime(2022, 2, 1, 19, 6, 57, tzinfo=datetime.timezone.utc), id=1488589706665381891, id_str='1488589706665381891', text='@ElizabethOf_ @Fatbabe25 My sister! let Jesus take the wheel😭', truncated=False, entities={'hashtags': [], 'symbols': [], 'user_mentions': [{'screen_name': 'ElizabethOf_', 'name': 'Lizzy', 'id': 723824556083929088, 'id_str': '723824556083929088', 'indices': [0, 13]}, {'screen_name': 'Fatbabe25', 'name': 'MFJPM', 'id': 2274692722, 'id_str': '2274692722', 'indices': [14, 24]}], 'urls': []}, metadata={'iso_language_code': 'en', 'result_type': 'recent'}, source='Twitter for Android', source_url='http://twitter.com/download/android', in_reply_to_status_id=1488579454058250242, in_reply_to_status_id_str='1488579454058250242', in_reply_to_user_id=723824556083929088, in_reply_to_user_id_str='723824556083929088', in_reply_to_screen_name='ElizabethOf_', author=User(_api=<tweepy.api.API object at 0x1075ddfa0>, _json={'id': 4804180933, 'id_str': '4804180933', 'name': 'JOHNSON ELIZABETH', 'screen_name': 'scriptedbaker', 'location': '', 'description': \"I'm a Baker🍨Food Critic🍨Good food lover😎🍨Aspiring Food Consultant🍨Abba's no1 baby girl 💕... mess with women face me😈\", 'url': None, 'entities': {'description': {'urls': []}}, 'protected': False, 'followers_count': 120, 'friends_count': 598, 'listed_count': 0, 'created_at': 'Sat Jan 23 19:00:54 +0000 2016', 'favourites_count': 2785, 'utc_offset': None, 'time_zone': None, 'geo_enabled': True, 'verified': False, 'statuses_count': 852, 'lang': None, 'contributors_enabled': False, 'is_translator': False, 'is_translation_enabled': False, 'profile_background_color': 'F5F8FA', 'profile_background_image_url': None, 'profile_background_image_url_https': None, 'profile_background_tile': False, 'profile_image_url': 'http://pbs.twimg.com/profile_images/1486789635342802949/Fb8Jo_dM_normal.jpg', 'profile_image_url_https': 'https://pbs.twimg.com/profile_images/1486789635342802949/Fb8Jo_dM_normal.jpg', 'profile_banner_url': 'https://pbs.twimg.com/profile_banners/4804180933/1600120578', 'profile_link_color': '1DA1F2', 'profile_sidebar_border_color': 'C0DEED', 'profile_sidebar_fill_color': 'DDEEF6', 'profile_text_color': '333333', 'profile_use_background_image': True, 'has_extended_profile': True, 'default_profile': True, 'default_profile_image': False, 'following': True, 'follow_request_sent': False, 'notifications': False, 'translator_type': 'none', 'withheld_in_countries': []}, id=4804180933, id_str='4804180933', name='JOHNSON ELIZABETH', screen_name='scriptedbaker', location='', description=\"I'm a Baker🍨Food Critic🍨Good food lover😎🍨Aspiring Food Consultant🍨Abba's no1 baby girl 💕... mess with women face me😈\", url=None, entities={'description': {'urls': []}}, protected=False, followers_count=120, friends_count=598, listed_count=0, created_at=datetime.datetime(2016, 1, 23, 19, 0, 54, tzinfo=datetime.timezone.utc), favourites_count=2785, utc_offset=None, time_zone=None, geo_enabled=True, verified=False, statuses_count=852, lang=None, contributors_enabled=False, is_translator=False, is_translation_enabled=False, profile_background_color='F5F8FA', profile_background_image_url=None, profile_background_image_url_https=None, profile_background_tile=False, profile_image_url='http://pbs.twimg.com/profile_images/1486789635342802949/Fb8Jo_dM_normal.jpg', profile_image_url_https='https://pbs.twimg.com/profile_images/1486789635342802949/Fb8Jo_dM_normal.jpg', profile_banner_url='https://pbs.twimg.com/profile_banners/4804180933/1600120578', profile_link_color='1DA1F2', profile_sidebar_border_color='C0DEED', profile_sidebar_fill_color='DDEEF6', profile_text_color='333333', profile_use_background_image=True, has_extended_profile=True, default_profile=True, default_profile_image=False, following=True, follow_request_sent=False, notifications=False, translator_type='none', withheld_in_countries=[]), user=User(_api=<tweepy.api.API object at 0x1075ddfa0>, _json={'id': 4804180933, 'id_str': '4804180933', 'name': 'JOHNSON ELIZABETH', 'screen_name': 'scriptedbaker', 'location': '', 'description': \"I'm a Baker🍨Food Critic🍨Good food lover😎🍨Aspiring Food Consultant🍨Abba's no1 baby girl 💕... mess with women face me😈\", 'url': None, 'entities': {'description': {'urls': []}}, 'protected': False, 'followers_count': 120, 'friends_count': 598, 'listed_count': 0, 'created_at': 'Sat Jan 23 19:00:54 +0000 2016', 'favourites_count': 2785, 'utc_offset': None, 'time_zone': None, 'geo_enabled': True, 'verified': False, 'statuses_count': 852, 'lang': None, 'contributors_enabled': False, 'is_translator': False, 'is_translation_enabled': False, 'profile_background_color': 'F5F8FA', 'profile_background_image_url': None, 'profile_background_image_url_https': None, 'profile_background_tile': False, 'profile_image_url': 'http://pbs.twimg.com/profile_images/1486789635342802949/Fb8Jo_dM_normal.jpg', 'profile_image_url_https': 'https://pbs.twimg.com/profile_images/1486789635342802949/Fb8Jo_dM_normal.jpg', 'profile_banner_url': 'https://pbs.twimg.com/profile_banners/4804180933/1600120578', 'profile_link_color': '1DA1F2', 'profile_sidebar_border_color': 'C0DEED', 'profile_sidebar_fill_color': 'DDEEF6', 'profile_text_color': '333333', 'profile_use_background_image': True, 'has_extended_profile': True, 'default_profile': True, 'default_profile_image': False, 'following': True, 'follow_request_sent': False, 'notifications': False, 'translator_type': 'none', 'withheld_in_countries': []}, id=4804180933, id_str='4804180933', name='JOHNSON ELIZABETH', screen_name='scriptedbaker', location='', description=\"I'm a Baker🍨Food Critic🍨Good food lover😎🍨Aspiring Food Consultant🍨Abba's no1 baby girl 💕... mess with women face me😈\", url=None, entities={'description': {'urls': []}}, protected=False, followers_count=120, friends_count=598, listed_count=0, created_at=datetime.datetime(2016, 1, 23, 19, 0, 54, tzinfo=datetime.timezone.utc), favourites_count=2785, utc_offset=None, time_zone=None, geo_enabled=True, verified=False, statuses_count=852, lang=None, contributors_enabled=False, is_translator=False, is_translation_enabled=False, profile_background_color='F5F8FA', profile_background_image_url=None, profile_background_image_url_https=None, profile_background_tile=False, profile_image_url='http://pbs.twimg.com/profile_images/1486789635342802949/Fb8Jo_dM_normal.jpg', profile_image_url_https='https://pbs.twimg.com/profile_images/1486789635342802949/Fb8Jo_dM_normal.jpg', profile_banner_url='https://pbs.twimg.com/profile_banners/4804180933/1600120578', profile_link_color='1DA1F2', profile_sidebar_border_color='C0DEED', profile_sidebar_fill_color='DDEEF6', profile_text_color='333333', profile_use_background_image=True, has_extended_profile=True, default_profile=True, default_profile_image=False, following=True, follow_request_sent=False, notifications=False, translator_type='none', withheld_in_countries=[]), geo=None, coordinates=None, place=None, contributors=None, is_quote_status=False, retweet_count=0, favorite_count=0, favorited=False, retweeted=False, lang='en'),\n",
       " Status(_api=<tweepy.api.API object at 0x1075ddfa0>, _json={'created_at': 'Tue Feb 01 18:42:29 +0000 2022', 'id': 1488583549561225221, 'id_str': '1488583549561225221', 'text': '@Fatbabe25 @scriptedbaker To travel now and see the world @Fatbabe25', 'truncated': False, 'entities': {'hashtags': [], 'symbols': [], 'user_mentions': [{'screen_name': 'Fatbabe25', 'name': 'MFJPM', 'id': 2274692722, 'id_str': '2274692722', 'indices': [0, 10]}, {'screen_name': 'scriptedbaker', 'name': 'JOHNSON ELIZABETH', 'id': 4804180933, 'id_str': '4804180933', 'indices': [11, 25]}, {'screen_name': 'Fatbabe25', 'name': 'MFJPM', 'id': 2274692722, 'id_str': '2274692722', 'indices': [58, 68]}], 'urls': []}, 'metadata': {'iso_language_code': 'en', 'result_type': 'recent'}, 'source': '<a href=\"https://mobile.twitter.com\" rel=\"nofollow\">Twitter Web App</a>', 'in_reply_to_status_id': 1488579454058250242, 'in_reply_to_status_id_str': '1488579454058250242', 'in_reply_to_user_id': 723824556083929088, 'in_reply_to_user_id_str': '723824556083929088', 'in_reply_to_screen_name': 'ElizabethOf_', 'user': {'id': 723824556083929088, 'id_str': '723824556083929088', 'name': 'Lizzy', 'screen_name': 'ElizabethOf_', 'location': 'Lagos, Nigeria', 'description': \"Data analysis/science enthusiast,\\nAbba's Babygirl.\", 'url': 'https://t.co/KMmJ7YQE6q', 'entities': {'url': {'urls': [{'url': 'https://t.co/KMmJ7YQE6q', 'expanded_url': 'https://www.linkedin.com/in/elizabeth-ofulue', 'display_url': 'linkedin.com/in/elizabeth-o…', 'indices': [0, 23]}]}, 'description': {'urls': []}}, 'protected': False, 'followers_count': 435, 'friends_count': 1253, 'listed_count': 1, 'created_at': 'Sat Apr 23 10:43:16 +0000 2016', 'favourites_count': 34739, 'utc_offset': None, 'time_zone': None, 'geo_enabled': False, 'verified': False, 'statuses_count': 24113, 'lang': None, 'contributors_enabled': False, 'is_translator': False, 'is_translation_enabled': False, 'profile_background_color': 'F5F8FA', 'profile_background_image_url': None, 'profile_background_image_url_https': None, 'profile_background_tile': False, 'profile_image_url': 'http://pbs.twimg.com/profile_images/1349759224390311938/E9GguSjZ_normal.jpg', 'profile_image_url_https': 'https://pbs.twimg.com/profile_images/1349759224390311938/E9GguSjZ_normal.jpg', 'profile_banner_url': 'https://pbs.twimg.com/profile_banners/723824556083929088/1587461807', 'profile_link_color': '1DA1F2', 'profile_sidebar_border_color': 'C0DEED', 'profile_sidebar_fill_color': 'DDEEF6', 'profile_text_color': '333333', 'profile_use_background_image': True, 'has_extended_profile': True, 'default_profile': True, 'default_profile_image': False, 'following': False, 'follow_request_sent': False, 'notifications': False, 'translator_type': 'none', 'withheld_in_countries': []}, 'geo': None, 'coordinates': None, 'place': None, 'contributors': None, 'is_quote_status': False, 'retweet_count': 0, 'favorite_count': 0, 'favorited': False, 'retweeted': False, 'lang': 'en'}, created_at=datetime.datetime(2022, 2, 1, 18, 42, 29, tzinfo=datetime.timezone.utc), id=1488583549561225221, id_str='1488583549561225221', text='@Fatbabe25 @scriptedbaker To travel now and see the world @Fatbabe25', truncated=False, entities={'hashtags': [], 'symbols': [], 'user_mentions': [{'screen_name': 'Fatbabe25', 'name': 'MFJPM', 'id': 2274692722, 'id_str': '2274692722', 'indices': [0, 10]}, {'screen_name': 'scriptedbaker', 'name': 'JOHNSON ELIZABETH', 'id': 4804180933, 'id_str': '4804180933', 'indices': [11, 25]}, {'screen_name': 'Fatbabe25', 'name': 'MFJPM', 'id': 2274692722, 'id_str': '2274692722', 'indices': [58, 68]}], 'urls': []}, metadata={'iso_language_code': 'en', 'result_type': 'recent'}, source='Twitter Web App', source_url='https://mobile.twitter.com', in_reply_to_status_id=1488579454058250242, in_reply_to_status_id_str='1488579454058250242', in_reply_to_user_id=723824556083929088, in_reply_to_user_id_str='723824556083929088', in_reply_to_screen_name='ElizabethOf_', author=User(_api=<tweepy.api.API object at 0x1075ddfa0>, _json={'id': 723824556083929088, 'id_str': '723824556083929088', 'name': 'Lizzy', 'screen_name': 'ElizabethOf_', 'location': 'Lagos, Nigeria', 'description': \"Data analysis/science enthusiast,\\nAbba's Babygirl.\", 'url': 'https://t.co/KMmJ7YQE6q', 'entities': {'url': {'urls': [{'url': 'https://t.co/KMmJ7YQE6q', 'expanded_url': 'https://www.linkedin.com/in/elizabeth-ofulue', 'display_url': 'linkedin.com/in/elizabeth-o…', 'indices': [0, 23]}]}, 'description': {'urls': []}}, 'protected': False, 'followers_count': 435, 'friends_count': 1253, 'listed_count': 1, 'created_at': 'Sat Apr 23 10:43:16 +0000 2016', 'favourites_count': 34739, 'utc_offset': None, 'time_zone': None, 'geo_enabled': False, 'verified': False, 'statuses_count': 24113, 'lang': None, 'contributors_enabled': False, 'is_translator': False, 'is_translation_enabled': False, 'profile_background_color': 'F5F8FA', 'profile_background_image_url': None, 'profile_background_image_url_https': None, 'profile_background_tile': False, 'profile_image_url': 'http://pbs.twimg.com/profile_images/1349759224390311938/E9GguSjZ_normal.jpg', 'profile_image_url_https': 'https://pbs.twimg.com/profile_images/1349759224390311938/E9GguSjZ_normal.jpg', 'profile_banner_url': 'https://pbs.twimg.com/profile_banners/723824556083929088/1587461807', 'profile_link_color': '1DA1F2', 'profile_sidebar_border_color': 'C0DEED', 'profile_sidebar_fill_color': 'DDEEF6', 'profile_text_color': '333333', 'profile_use_background_image': True, 'has_extended_profile': True, 'default_profile': True, 'default_profile_image': False, 'following': False, 'follow_request_sent': False, 'notifications': False, 'translator_type': 'none', 'withheld_in_countries': []}, id=723824556083929088, id_str='723824556083929088', name='Lizzy', screen_name='ElizabethOf_', location='Lagos, Nigeria', description=\"Data analysis/science enthusiast,\\nAbba's Babygirl.\", url='https://t.co/KMmJ7YQE6q', entities={'url': {'urls': [{'url': 'https://t.co/KMmJ7YQE6q', 'expanded_url': 'https://www.linkedin.com/in/elizabeth-ofulue', 'display_url': 'linkedin.com/in/elizabeth-o…', 'indices': [0, 23]}]}, 'description': {'urls': []}}, protected=False, followers_count=435, friends_count=1253, listed_count=1, created_at=datetime.datetime(2016, 4, 23, 10, 43, 16, tzinfo=datetime.timezone.utc), favourites_count=34739, utc_offset=None, time_zone=None, geo_enabled=False, verified=False, statuses_count=24113, lang=None, contributors_enabled=False, is_translator=False, is_translation_enabled=False, profile_background_color='F5F8FA', profile_background_image_url=None, profile_background_image_url_https=None, profile_background_tile=False, profile_image_url='http://pbs.twimg.com/profile_images/1349759224390311938/E9GguSjZ_normal.jpg', profile_image_url_https='https://pbs.twimg.com/profile_images/1349759224390311938/E9GguSjZ_normal.jpg', profile_banner_url='https://pbs.twimg.com/profile_banners/723824556083929088/1587461807', profile_link_color='1DA1F2', profile_sidebar_border_color='C0DEED', profile_sidebar_fill_color='DDEEF6', profile_text_color='333333', profile_use_background_image=True, has_extended_profile=True, default_profile=True, default_profile_image=False, following=False, follow_request_sent=False, notifications=False, translator_type='none', withheld_in_countries=[]), user=User(_api=<tweepy.api.API object at 0x1075ddfa0>, _json={'id': 723824556083929088, 'id_str': '723824556083929088', 'name': 'Lizzy', 'screen_name': 'ElizabethOf_', 'location': 'Lagos, Nigeria', 'description': \"Data analysis/science enthusiast,\\nAbba's Babygirl.\", 'url': 'https://t.co/KMmJ7YQE6q', 'entities': {'url': {'urls': [{'url': 'https://t.co/KMmJ7YQE6q', 'expanded_url': 'https://www.linkedin.com/in/elizabeth-ofulue', 'display_url': 'linkedin.com/in/elizabeth-o…', 'indices': [0, 23]}]}, 'description': {'urls': []}}, 'protected': False, 'followers_count': 435, 'friends_count': 1253, 'listed_count': 1, 'created_at': 'Sat Apr 23 10:43:16 +0000 2016', 'favourites_count': 34739, 'utc_offset': None, 'time_zone': None, 'geo_enabled': False, 'verified': False, 'statuses_count': 24113, 'lang': None, 'contributors_enabled': False, 'is_translator': False, 'is_translation_enabled': False, 'profile_background_color': 'F5F8FA', 'profile_background_image_url': None, 'profile_background_image_url_https': None, 'profile_background_tile': False, 'profile_image_url': 'http://pbs.twimg.com/profile_images/1349759224390311938/E9GguSjZ_normal.jpg', 'profile_image_url_https': 'https://pbs.twimg.com/profile_images/1349759224390311938/E9GguSjZ_normal.jpg', 'profile_banner_url': 'https://pbs.twimg.com/profile_banners/723824556083929088/1587461807', 'profile_link_color': '1DA1F2', 'profile_sidebar_border_color': 'C0DEED', 'profile_sidebar_fill_color': 'DDEEF6', 'profile_text_color': '333333', 'profile_use_background_image': True, 'has_extended_profile': True, 'default_profile': True, 'default_profile_image': False, 'following': False, 'follow_request_sent': False, 'notifications': False, 'translator_type': 'none', 'withheld_in_countries': []}, id=723824556083929088, id_str='723824556083929088', name='Lizzy', screen_name='ElizabethOf_', location='Lagos, Nigeria', description=\"Data analysis/science enthusiast,\\nAbba's Babygirl.\", url='https://t.co/KMmJ7YQE6q', entities={'url': {'urls': [{'url': 'https://t.co/KMmJ7YQE6q', 'expanded_url': 'https://www.linkedin.com/in/elizabeth-ofulue', 'display_url': 'linkedin.com/in/elizabeth-o…', 'indices': [0, 23]}]}, 'description': {'urls': []}}, protected=False, followers_count=435, friends_count=1253, listed_count=1, created_at=datetime.datetime(2016, 4, 23, 10, 43, 16, tzinfo=datetime.timezone.utc), favourites_count=34739, utc_offset=None, time_zone=None, geo_enabled=False, verified=False, statuses_count=24113, lang=None, contributors_enabled=False, is_translator=False, is_translation_enabled=False, profile_background_color='F5F8FA', profile_background_image_url=None, profile_background_image_url_https=None, profile_background_tile=False, profile_image_url='http://pbs.twimg.com/profile_images/1349759224390311938/E9GguSjZ_normal.jpg', profile_image_url_https='https://pbs.twimg.com/profile_images/1349759224390311938/E9GguSjZ_normal.jpg', profile_banner_url='https://pbs.twimg.com/profile_banners/723824556083929088/1587461807', profile_link_color='1DA1F2', profile_sidebar_border_color='C0DEED', profile_sidebar_fill_color='DDEEF6', profile_text_color='333333', profile_use_background_image=True, has_extended_profile=True, default_profile=True, default_profile_image=False, following=False, follow_request_sent=False, notifications=False, translator_type='none', withheld_in_countries=[]), geo=None, coordinates=None, place=None, contributors=None, is_quote_status=False, retweet_count=0, favorite_count=0, favorited=False, retweeted=False, lang='en'),\n",
       " Status(_api=<tweepy.api.API object at 0x1075ddfa0>, _json={'created_at': 'Tue Feb 01 18:28:28 +0000 2022', 'id': 1488580024445947906, 'id_str': '1488580024445947906', 'text': \"@ElizabethOf_ @scriptedbaker What plan? Don't annoy me pls 😩\", 'truncated': False, 'entities': {'hashtags': [], 'symbols': [], 'user_mentions': [{'screen_name': 'ElizabethOf_', 'name': 'Lizzy', 'id': 723824556083929088, 'id_str': '723824556083929088', 'indices': [0, 13]}, {'screen_name': 'scriptedbaker', 'name': 'JOHNSON ELIZABETH', 'id': 4804180933, 'id_str': '4804180933', 'indices': [14, 28]}], 'urls': []}, 'metadata': {'iso_language_code': 'en', 'result_type': 'recent'}, 'source': '<a href=\"http://twitter.com/download/iphone\" rel=\"nofollow\">Twitter for iPhone</a>', 'in_reply_to_status_id': 1488579454058250242, 'in_reply_to_status_id_str': '1488579454058250242', 'in_reply_to_user_id': 723824556083929088, 'in_reply_to_user_id_str': '723824556083929088', 'in_reply_to_screen_name': 'ElizabethOf_', 'user': {'id': 2274692722, 'id_str': '2274692722', 'name': 'MFJPM', 'screen_name': 'Fatbabe25', 'location': 'Looking for money boulevard ', 'description': 'Tough times are lasting.', 'url': None, 'entities': {'description': {'urls': []}}, 'protected': False, 'followers_count': 270, 'friends_count': 661, 'listed_count': 3, 'created_at': 'Sat Jan 11 11:43:40 +0000 2014', 'favourites_count': 12328, 'utc_offset': None, 'time_zone': None, 'geo_enabled': False, 'verified': False, 'statuses_count': 52605, 'lang': None, 'contributors_enabled': False, 'is_translator': False, 'is_translation_enabled': False, 'profile_background_color': 'C0DEED', 'profile_background_image_url': 'http://abs.twimg.com/images/themes/theme1/bg.png', 'profile_background_image_url_https': 'https://abs.twimg.com/images/themes/theme1/bg.png', 'profile_background_tile': False, 'profile_image_url': 'http://pbs.twimg.com/profile_images/1488959293860761601/ZIGO7J1i_normal.jpg', 'profile_image_url_https': 'https://pbs.twimg.com/profile_images/1488959293860761601/ZIGO7J1i_normal.jpg', 'profile_banner_url': 'https://pbs.twimg.com/profile_banners/2274692722/1637002779', 'profile_link_color': '1DA1F2', 'profile_sidebar_border_color': 'C0DEED', 'profile_sidebar_fill_color': 'DDEEF6', 'profile_text_color': '333333', 'profile_use_background_image': True, 'has_extended_profile': True, 'default_profile': True, 'default_profile_image': False, 'following': True, 'follow_request_sent': False, 'notifications': False, 'translator_type': 'none', 'withheld_in_countries': []}, 'geo': None, 'coordinates': None, 'place': None, 'contributors': None, 'is_quote_status': False, 'retweet_count': 0, 'favorite_count': 0, 'favorited': False, 'retweeted': False, 'lang': 'en'}, created_at=datetime.datetime(2022, 2, 1, 18, 28, 28, tzinfo=datetime.timezone.utc), id=1488580024445947906, id_str='1488580024445947906', text=\"@ElizabethOf_ @scriptedbaker What plan? Don't annoy me pls 😩\", truncated=False, entities={'hashtags': [], 'symbols': [], 'user_mentions': [{'screen_name': 'ElizabethOf_', 'name': 'Lizzy', 'id': 723824556083929088, 'id_str': '723824556083929088', 'indices': [0, 13]}, {'screen_name': 'scriptedbaker', 'name': 'JOHNSON ELIZABETH', 'id': 4804180933, 'id_str': '4804180933', 'indices': [14, 28]}], 'urls': []}, metadata={'iso_language_code': 'en', 'result_type': 'recent'}, source='Twitter for iPhone', source_url='http://twitter.com/download/iphone', in_reply_to_status_id=1488579454058250242, in_reply_to_status_id_str='1488579454058250242', in_reply_to_user_id=723824556083929088, in_reply_to_user_id_str='723824556083929088', in_reply_to_screen_name='ElizabethOf_', author=User(_api=<tweepy.api.API object at 0x1075ddfa0>, _json={'id': 2274692722, 'id_str': '2274692722', 'name': 'MFJPM', 'screen_name': 'Fatbabe25', 'location': 'Looking for money boulevard ', 'description': 'Tough times are lasting.', 'url': None, 'entities': {'description': {'urls': []}}, 'protected': False, 'followers_count': 270, 'friends_count': 661, 'listed_count': 3, 'created_at': 'Sat Jan 11 11:43:40 +0000 2014', 'favourites_count': 12328, 'utc_offset': None, 'time_zone': None, 'geo_enabled': False, 'verified': False, 'statuses_count': 52605, 'lang': None, 'contributors_enabled': False, 'is_translator': False, 'is_translation_enabled': False, 'profile_background_color': 'C0DEED', 'profile_background_image_url': 'http://abs.twimg.com/images/themes/theme1/bg.png', 'profile_background_image_url_https': 'https://abs.twimg.com/images/themes/theme1/bg.png', 'profile_background_tile': False, 'profile_image_url': 'http://pbs.twimg.com/profile_images/1488959293860761601/ZIGO7J1i_normal.jpg', 'profile_image_url_https': 'https://pbs.twimg.com/profile_images/1488959293860761601/ZIGO7J1i_normal.jpg', 'profile_banner_url': 'https://pbs.twimg.com/profile_banners/2274692722/1637002779', 'profile_link_color': '1DA1F2', 'profile_sidebar_border_color': 'C0DEED', 'profile_sidebar_fill_color': 'DDEEF6', 'profile_text_color': '333333', 'profile_use_background_image': True, 'has_extended_profile': True, 'default_profile': True, 'default_profile_image': False, 'following': True, 'follow_request_sent': False, 'notifications': False, 'translator_type': 'none', 'withheld_in_countries': []}, id=2274692722, id_str='2274692722', name='MFJPM', screen_name='Fatbabe25', location='Looking for money boulevard ', description='Tough times are lasting.', url=None, entities={'description': {'urls': []}}, protected=False, followers_count=270, friends_count=661, listed_count=3, created_at=datetime.datetime(2014, 1, 11, 11, 43, 40, tzinfo=datetime.timezone.utc), favourites_count=12328, utc_offset=None, time_zone=None, geo_enabled=False, verified=False, statuses_count=52605, lang=None, contributors_enabled=False, is_translator=False, is_translation_enabled=False, profile_background_color='C0DEED', profile_background_image_url='http://abs.twimg.com/images/themes/theme1/bg.png', profile_background_image_url_https='https://abs.twimg.com/images/themes/theme1/bg.png', profile_background_tile=False, profile_image_url='http://pbs.twimg.com/profile_images/1488959293860761601/ZIGO7J1i_normal.jpg', profile_image_url_https='https://pbs.twimg.com/profile_images/1488959293860761601/ZIGO7J1i_normal.jpg', profile_banner_url='https://pbs.twimg.com/profile_banners/2274692722/1637002779', profile_link_color='1DA1F2', profile_sidebar_border_color='C0DEED', profile_sidebar_fill_color='DDEEF6', profile_text_color='333333', profile_use_background_image=True, has_extended_profile=True, default_profile=True, default_profile_image=False, following=True, follow_request_sent=False, notifications=False, translator_type='none', withheld_in_countries=[]), user=User(_api=<tweepy.api.API object at 0x1075ddfa0>, _json={'id': 2274692722, 'id_str': '2274692722', 'name': 'MFJPM', 'screen_name': 'Fatbabe25', 'location': 'Looking for money boulevard ', 'description': 'Tough times are lasting.', 'url': None, 'entities': {'description': {'urls': []}}, 'protected': False, 'followers_count': 270, 'friends_count': 661, 'listed_count': 3, 'created_at': 'Sat Jan 11 11:43:40 +0000 2014', 'favourites_count': 12328, 'utc_offset': None, 'time_zone': None, 'geo_enabled': False, 'verified': False, 'statuses_count': 52605, 'lang': None, 'contributors_enabled': False, 'is_translator': False, 'is_translation_enabled': False, 'profile_background_color': 'C0DEED', 'profile_background_image_url': 'http://abs.twimg.com/images/themes/theme1/bg.png', 'profile_background_image_url_https': 'https://abs.twimg.com/images/themes/theme1/bg.png', 'profile_background_tile': False, 'profile_image_url': 'http://pbs.twimg.com/profile_images/1488959293860761601/ZIGO7J1i_normal.jpg', 'profile_image_url_https': 'https://pbs.twimg.com/profile_images/1488959293860761601/ZIGO7J1i_normal.jpg', 'profile_banner_url': 'https://pbs.twimg.com/profile_banners/2274692722/1637002779', 'profile_link_color': '1DA1F2', 'profile_sidebar_border_color': 'C0DEED', 'profile_sidebar_fill_color': 'DDEEF6', 'profile_text_color': '333333', 'profile_use_background_image': True, 'has_extended_profile': True, 'default_profile': True, 'default_profile_image': False, 'following': True, 'follow_request_sent': False, 'notifications': False, 'translator_type': 'none', 'withheld_in_countries': []}, id=2274692722, id_str='2274692722', name='MFJPM', screen_name='Fatbabe25', location='Looking for money boulevard ', description='Tough times are lasting.', url=None, entities={'description': {'urls': []}}, protected=False, followers_count=270, friends_count=661, listed_count=3, created_at=datetime.datetime(2014, 1, 11, 11, 43, 40, tzinfo=datetime.timezone.utc), favourites_count=12328, utc_offset=None, time_zone=None, geo_enabled=False, verified=False, statuses_count=52605, lang=None, contributors_enabled=False, is_translator=False, is_translation_enabled=False, profile_background_color='C0DEED', profile_background_image_url='http://abs.twimg.com/images/themes/theme1/bg.png', profile_background_image_url_https='https://abs.twimg.com/images/themes/theme1/bg.png', profile_background_tile=False, profile_image_url='http://pbs.twimg.com/profile_images/1488959293860761601/ZIGO7J1i_normal.jpg', profile_image_url_https='https://pbs.twimg.com/profile_images/1488959293860761601/ZIGO7J1i_normal.jpg', profile_banner_url='https://pbs.twimg.com/profile_banners/2274692722/1637002779', profile_link_color='1DA1F2', profile_sidebar_border_color='C0DEED', profile_sidebar_fill_color='DDEEF6', profile_text_color='333333', profile_use_background_image=True, has_extended_profile=True, default_profile=True, default_profile_image=False, following=True, follow_request_sent=False, notifications=False, translator_type='none', withheld_in_countries=[]), geo=None, coordinates=None, place=None, contributors=None, is_quote_status=False, retweet_count=0, favorite_count=0, favorited=False, retweeted=False, lang='en')]"
      ]
     },
     "execution_count": 40,
     "metadata": {},
     "output_type": "execute_result"
    }
   ],
   "source": [
    "#access tweet with username and tweet id\n",
    "name = 'ElizabethOf_'\n",
    "id = \"1488579454058250242\"\n",
    "replies = []\n",
    "\n",
    "for tweet in tweepy.Cursor(api.search_tweets, q='to:'+name).items(1000):\n",
    "    if hasattr(tweet, 'in_reply_to_status_id_str'):\n",
    "        if (tweet.in_reply_to_status_id_str==id):\n",
    "            replies.append(tweet)\n",
    "            \n",
    "replies"
   ]
  },
  {
   "cell_type": "code",
   "execution_count": 22,
   "metadata": {},
   "outputs": [],
   "source": [
    "with open('replies.csv', 'w') as f:\n",
    "    csv_writer = csv.DictWriter(f, fieldnames=('user_name', 'name','date', 'response'))\n",
    "    csv_writer.writeheader()\n",
    "    for tweet in replies:\n",
    "        row = {'user_name': tweet.user.screen_name, 'name': tweet.user.name, 'date': tweet.created_at,'response': tweet.text.replace('\\n', ' ')}\n",
    "        csv_writer.writerow(row)"
   ]
  },
  {
   "cell_type": "code",
   "execution_count": 46,
   "metadata": {},
   "outputs": [
    {
     "data": {
      "text/html": [
       "<div>\n",
       "<style scoped>\n",
       "    .dataframe tbody tr th:only-of-type {\n",
       "        vertical-align: middle;\n",
       "    }\n",
       "\n",
       "    .dataframe tbody tr th {\n",
       "        vertical-align: top;\n",
       "    }\n",
       "\n",
       "    .dataframe thead th {\n",
       "        text-align: right;\n",
       "    }\n",
       "</style>\n",
       "<table border=\"1\" class=\"dataframe\">\n",
       "  <thead>\n",
       "    <tr style=\"text-align: right;\">\n",
       "      <th></th>\n",
       "      <th>user_name</th>\n",
       "      <th>name</th>\n",
       "      <th>date</th>\n",
       "      <th>response</th>\n",
       "    </tr>\n",
       "  </thead>\n",
       "  <tbody>\n",
       "    <tr>\n",
       "      <th>0</th>\n",
       "      <td>scriptedbaker</td>\n",
       "      <td>JOHNSON ELIZABETH</td>\n",
       "      <td>2022-02-01 19:06:57+00:00</td>\n",
       "      <td>@ElizabethOf_ @Fatbabe25 My sister! let Jesus ...</td>\n",
       "    </tr>\n",
       "    <tr>\n",
       "      <th>1</th>\n",
       "      <td>ElizabethOf_</td>\n",
       "      <td>Lizzy</td>\n",
       "      <td>2022-02-01 18:42:29+00:00</td>\n",
       "      <td>@Fatbabe25 @scriptedbaker To travel now and se...</td>\n",
       "    </tr>\n",
       "    <tr>\n",
       "      <th>2</th>\n",
       "      <td>Fatbabe25</td>\n",
       "      <td>MFJPM</td>\n",
       "      <td>2022-02-01 18:28:28+00:00</td>\n",
       "      <td>@ElizabethOf_ @scriptedbaker What plan? Don't ...</td>\n",
       "    </tr>\n",
       "  </tbody>\n",
       "</table>\n",
       "</div>"
      ],
      "text/plain": [
       "       user_name               name                       date  \\\n",
       "0  scriptedbaker  JOHNSON ELIZABETH  2022-02-01 19:06:57+00:00   \n",
       "1   ElizabethOf_              Lizzy  2022-02-01 18:42:29+00:00   \n",
       "2      Fatbabe25              MFJPM  2022-02-01 18:28:28+00:00   \n",
       "\n",
       "                                            response  \n",
       "0  @ElizabethOf_ @Fatbabe25 My sister! let Jesus ...  \n",
       "1  @Fatbabe25 @scriptedbaker To travel now and se...  \n",
       "2  @ElizabethOf_ @scriptedbaker What plan? Don't ...  "
      ]
     },
     "execution_count": 46,
     "metadata": {},
     "output_type": "execute_result"
    }
   ],
   "source": [
    "a=pd.read_csv('replies.csv')\n",
    "a"
   ]
  },
  {
   "cell_type": "code",
   "execution_count": 24,
   "metadata": {},
   "outputs": [],
   "source": [
    "with open('tweet_json.txt', 'w') as file:\n",
    "    for reply in replies:   \n",
    "        json.dump(tweet._json, file)\n",
    "        file.write('\\n')\n",
    "\n",
    "\n"
   ]
  },
  {
   "cell_type": "code",
   "execution_count": 44,
   "metadata": {},
   "outputs": [],
   "source": [
    "jsondf = []\n",
    "\n",
    "with open('tweet_json.txt', 'r') as json_f:\n",
    "    for line in json_f:\n",
    "        json_data  = json.loads(line)\n",
    "        jsondf.append({'tweet_id' : json_data['in_reply_to_status_id_str'],\n",
    "                       #'user_name' : json_data['scrren_name'],\n",
    "                       'response' : json_data['text'],\n",
    "                       'date':json_data['created_at']})\n",
    "        \n",
    "        \n",
    "api_df = pd.DataFrame(jsondf, columns=['tweet_id', 'user_name', 'response', 'date'])"
   ]
  },
  {
   "cell_type": "code",
   "execution_count": 45,
   "metadata": {},
   "outputs": [
    {
     "data": {
      "text/html": [
       "<div>\n",
       "<style scoped>\n",
       "    .dataframe tbody tr th:only-of-type {\n",
       "        vertical-align: middle;\n",
       "    }\n",
       "\n",
       "    .dataframe tbody tr th {\n",
       "        vertical-align: top;\n",
       "    }\n",
       "\n",
       "    .dataframe thead th {\n",
       "        text-align: right;\n",
       "    }\n",
       "</style>\n",
       "<table border=\"1\" class=\"dataframe\">\n",
       "  <thead>\n",
       "    <tr style=\"text-align: right;\">\n",
       "      <th></th>\n",
       "      <th>tweet_id</th>\n",
       "      <th>user_name</th>\n",
       "      <th>response</th>\n",
       "      <th>date</th>\n",
       "    </tr>\n",
       "  </thead>\n",
       "  <tbody>\n",
       "    <tr>\n",
       "      <th>0</th>\n",
       "      <td>1488579454058250242</td>\n",
       "      <td>NaN</td>\n",
       "      <td>@ElizabethOf_ @scriptedbaker What plan? Don't ...</td>\n",
       "      <td>Tue Feb 01 18:28:28 +0000 2022</td>\n",
       "    </tr>\n",
       "    <tr>\n",
       "      <th>1</th>\n",
       "      <td>1488579454058250242</td>\n",
       "      <td>NaN</td>\n",
       "      <td>@ElizabethOf_ @scriptedbaker What plan? Don't ...</td>\n",
       "      <td>Tue Feb 01 18:28:28 +0000 2022</td>\n",
       "    </tr>\n",
       "    <tr>\n",
       "      <th>2</th>\n",
       "      <td>1488579454058250242</td>\n",
       "      <td>NaN</td>\n",
       "      <td>@ElizabethOf_ @scriptedbaker What plan? Don't ...</td>\n",
       "      <td>Tue Feb 01 18:28:28 +0000 2022</td>\n",
       "    </tr>\n",
       "  </tbody>\n",
       "</table>\n",
       "</div>"
      ],
      "text/plain": [
       "              tweet_id  user_name  \\\n",
       "0  1488579454058250242        NaN   \n",
       "1  1488579454058250242        NaN   \n",
       "2  1488579454058250242        NaN   \n",
       "\n",
       "                                            response  \\\n",
       "0  @ElizabethOf_ @scriptedbaker What plan? Don't ...   \n",
       "1  @ElizabethOf_ @scriptedbaker What plan? Don't ...   \n",
       "2  @ElizabethOf_ @scriptedbaker What plan? Don't ...   \n",
       "\n",
       "                             date  \n",
       "0  Tue Feb 01 18:28:28 +0000 2022  \n",
       "1  Tue Feb 01 18:28:28 +0000 2022  \n",
       "2  Tue Feb 01 18:28:28 +0000 2022  "
      ]
     },
     "execution_count": 45,
     "metadata": {},
     "output_type": "execute_result"
    }
   ],
   "source": [
    "api_df"
   ]
  },
  {
   "cell_type": "code",
   "execution_count": 37,
   "metadata": {},
   "outputs": [
    {
     "data": {
      "text/plain": [
       "{'created_at': 'Tue Feb 01 18:28:28 +0000 2022',\n",
       " 'id': 1488580024445947906,\n",
       " 'id_str': '1488580024445947906',\n",
       " 'text': \"@ElizabethOf_ @scriptedbaker What plan? Don't annoy me pls 😩\",\n",
       " 'truncated': False,\n",
       " 'entities': {'hashtags': [],\n",
       "  'symbols': [],\n",
       "  'user_mentions': [{'screen_name': 'ElizabethOf_',\n",
       "    'name': 'Lizzy',\n",
       "    'id': 723824556083929088,\n",
       "    'id_str': '723824556083929088',\n",
       "    'indices': [0, 13]},\n",
       "   {'screen_name': 'scriptedbaker',\n",
       "    'name': 'JOHNSON ELIZABETH',\n",
       "    'id': 4804180933,\n",
       "    'id_str': '4804180933',\n",
       "    'indices': [14, 28]}],\n",
       "  'urls': []},\n",
       " 'metadata': {'iso_language_code': 'en', 'result_type': 'recent'},\n",
       " 'source': '<a href=\"http://twitter.com/download/iphone\" rel=\"nofollow\">Twitter for iPhone</a>',\n",
       " 'in_reply_to_status_id': 1488579454058250242,\n",
       " 'in_reply_to_status_id_str': '1488579454058250242',\n",
       " 'in_reply_to_user_id': 723824556083929088,\n",
       " 'in_reply_to_user_id_str': '723824556083929088',\n",
       " 'in_reply_to_screen_name': 'ElizabethOf_',\n",
       " 'user': {'id': 2274692722,\n",
       "  'id_str': '2274692722',\n",
       "  'name': 'MFJPM',\n",
       "  'screen_name': 'Fatbabe25',\n",
       "  'location': 'Looking for money boulevard ',\n",
       "  'description': 'Tough times are lasting.',\n",
       "  'url': None,\n",
       "  'entities': {'description': {'urls': []}},\n",
       "  'protected': False,\n",
       "  'followers_count': 270,\n",
       "  'friends_count': 661,\n",
       "  'listed_count': 3,\n",
       "  'created_at': 'Sat Jan 11 11:43:40 +0000 2014',\n",
       "  'favourites_count': 12328,\n",
       "  'utc_offset': None,\n",
       "  'time_zone': None,\n",
       "  'geo_enabled': False,\n",
       "  'verified': False,\n",
       "  'statuses_count': 52605,\n",
       "  'lang': None,\n",
       "  'contributors_enabled': False,\n",
       "  'is_translator': False,\n",
       "  'is_translation_enabled': False,\n",
       "  'profile_background_color': 'C0DEED',\n",
       "  'profile_background_image_url': 'http://abs.twimg.com/images/themes/theme1/bg.png',\n",
       "  'profile_background_image_url_https': 'https://abs.twimg.com/images/themes/theme1/bg.png',\n",
       "  'profile_background_tile': False,\n",
       "  'profile_image_url': 'http://pbs.twimg.com/profile_images/1488959293860761601/ZIGO7J1i_normal.jpg',\n",
       "  'profile_image_url_https': 'https://pbs.twimg.com/profile_images/1488959293860761601/ZIGO7J1i_normal.jpg',\n",
       "  'profile_banner_url': 'https://pbs.twimg.com/profile_banners/2274692722/1637002779',\n",
       "  'profile_link_color': '1DA1F2',\n",
       "  'profile_sidebar_border_color': 'C0DEED',\n",
       "  'profile_sidebar_fill_color': 'DDEEF6',\n",
       "  'profile_text_color': '333333',\n",
       "  'profile_use_background_image': True,\n",
       "  'has_extended_profile': True,\n",
       "  'default_profile': True,\n",
       "  'default_profile_image': False,\n",
       "  'following': True,\n",
       "  'follow_request_sent': False,\n",
       "  'notifications': False,\n",
       "  'translator_type': 'none',\n",
       "  'withheld_in_countries': []},\n",
       " 'geo': None,\n",
       " 'coordinates': None,\n",
       " 'place': None,\n",
       " 'contributors': None,\n",
       " 'is_quote_status': False,\n",
       " 'retweet_count': 0,\n",
       " 'favorite_count': 0,\n",
       " 'favorited': False,\n",
       " 'retweeted': False,\n",
       " 'lang': 'en'}"
      ]
     },
     "execution_count": 37,
     "metadata": {},
     "output_type": "execute_result"
    }
   ],
   "source": [
    "json_data\n"
   ]
  },
  {
   "cell_type": "code",
   "execution_count": null,
   "metadata": {},
   "outputs": [],
   "source": [
    "f (tweet.in_reply_to_status_id_str==id):\n",
    "    print(tweet.text)"
   ]
  },
  {
   "cell_type": "code",
   "execution_count": null,
   "metadata": {},
   "outputs": [],
   "source": []
  }
 ],
 "metadata": {
  "interpreter": {
   "hash": "b0fa6594d8f4cbf19f97940f81e996739fb7646882a419484c72d19e05852a7e"
  },
  "kernelspec": {
   "display_name": "Python 3.9.7 64-bit",
   "language": "python",
   "name": "python3"
  },
  "language_info": {
   "codemirror_mode": {
    "name": "ipython",
    "version": 3
   },
   "file_extension": ".py",
   "mimetype": "text/x-python",
   "name": "python",
   "nbconvert_exporter": "python",
   "pygments_lexer": "ipython3",
   "version": "3.9.7"
  },
  "orig_nbformat": 4
 },
 "nbformat": 4,
 "nbformat_minor": 2
}
